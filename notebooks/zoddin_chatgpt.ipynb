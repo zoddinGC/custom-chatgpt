{
 "cells": [
  {
   "cell_type": "code",
   "execution_count": null,
   "metadata": {},
   "outputs": [],
   "source": [
    "import openai\n",
    "import os\n",
    "from time import sleep\n",
    "\n",
    "# Set up OpenAI API credentials from .env file\n",
    "openai.api_key = os.getenv(\"API_KEY\")\n",
    "\n",
    "# Define training data\n",
    "messages = [\n",
    "    {\"role\": \"system\",\n",
    "     \"content\": \"You are a helpful assistant.\"}, \n",
    "]\n",
    "\n",
    "# Define a function to generate a response from the model\n",
    "def generate_response(prompt):\n",
    "    messages.append({\"role\": \"user\", \"content\": prompt})\n",
    "        \n",
    "    response = openai.ChatCompletion.create(\n",
    "        model=\"gpt-3.5-turbo\",\n",
    "        messages=messages,\n",
    "        temperature=0.2\n",
    "    )\n",
    "\n",
    "    message = response.choices[0].message.content\n",
    "    messages.append({\"role\":\"assistant\", \"content\": message})\n",
    "\n",
    "    return message\n",
    "\n",
    "# Define a function to run the chatbot\n",
    "def chatbot():\n",
    "    while True:\n",
    "        user_input = input(\"Enter your question above. \")\n",
    "        if user_input.strip().lower() in [\"bye\", \"goodbye\"]:\n",
    "            print(\"Bot: Goodbye!\")\n",
    "            break\n",
    "\n",
    "        else:\n",
    "            prompt = f\"You: {user_input}\\nBot: \"\n",
    "            response = generate_response(user_input)\n",
    "            sleep(0.5)\n",
    "            print(prompt + response, end=\"\\n\\n\")\n",
    "\n",
    "# Run the chatbot $0.002 per 1k token\n",
    "chatbot()\n"
   ]
  }
 ],
 "metadata": {
  "kernelspec": {
   "display_name": "env",
   "language": "python",
   "name": "python3"
  },
  "language_info": {
   "codemirror_mode": {
    "name": "ipython",
    "version": 3
   },
   "file_extension": ".py",
   "mimetype": "text/x-python",
   "name": "python",
   "nbconvert_exporter": "python",
   "pygments_lexer": "ipython3",
   "version": "3.9.6"
  },
  "orig_nbformat": 4
 },
 "nbformat": 4,
 "nbformat_minor": 2
}
